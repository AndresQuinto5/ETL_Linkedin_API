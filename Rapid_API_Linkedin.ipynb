{
 "cells": [
  {
   "cell_type": "code",
   "execution_count": null,
   "metadata": {},
   "outputs": [],
   "source": [
    "import requests\n",
    "import json\n",
    "\n",
    "url = \"https://linkedin-data-api.p.rapidapi.com/search-jobs\"\n",
    "\n",
    "querystring = {\n",
    "    \"keywords\": \"analista de datos OR ingeniero de datos OR business intelligence OR data science\",\n",
    "    \"locationId\": \"102227994\",  # ID de ubicación de Guatemala\n",
    "    \"datePosted\": \"anyTime\",\n",
    "    \"sort\": \"mostRelevant\"\n",
    "}\n",
    "\n",
    "headers = {\n",
    "    'x-rapidapi-key': \"1bfe80a6a0mshaeb9033e2f05f0ep1580a8jsn89eaa6406f40\",\n",
    "    'x-rapidapi-host': \"linkedin-data-api.p.rapidapi.com\"\n",
    "}\n",
    "\n",
    "response = requests.get(url, headers=headers, params=querystring)\n",
    "\n",
    "data = response.json()\n",
    "\n",
    "print(json.dumps(data, indent=2))"
   ]
  }
 ],
 "metadata": {
  "language_info": {
   "name": "python"
  }
 },
 "nbformat": 4,
 "nbformat_minor": 2
}
